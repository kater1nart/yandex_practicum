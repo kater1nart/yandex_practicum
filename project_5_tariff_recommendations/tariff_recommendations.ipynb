{
  "cells": [
    {
      "cell_type": "markdown",
      "metadata": {
        "id": "HMyGaFBmEgio"
      },
      "source": [
        "# Рекомендация тарифов"
      ]
    },
    {
      "cell_type": "markdown",
      "metadata": {
        "id": "dY8WesfpEgip"
      },
      "source": [
        "В вашем распоряжении данные о поведении клиентов, которые уже перешли на эти тарифы (из проекта курса «Статистический анализ данных»). Нужно построить модель для задачи классификации, которая выберет подходящий тариф. Предобработка данных не понадобится — вы её уже сделали.\n",
        "\n",
        "Постройте модель с максимально большим значением *accuracy*. Чтобы сдать проект успешно, нужно довести долю правильных ответов по крайней мере до 0.75. Проверьте *accuracy* на тестовой выборке самостоятельно."
      ]
    },
    {
      "cell_type": "markdown",
      "metadata": {
        "id": "DL6-xFRZEgip"
      },
      "source": [
        "## Откройте и изучите файл"
      ]
    },
    {
      "cell_type": "code",
      "source": [
        "import pandas as pd"
      ],
      "metadata": {
        "id": "xZffriSNZAfE"
      },
      "execution_count": null,
      "outputs": []
    },
    {
      "cell_type": "code",
      "execution_count": null,
      "metadata": {
        "id": "T-7YNuJYEgip",
        "colab": {
          "base_uri": "https://localhost:8080/",
          "height": 424
        },
        "outputId": "62f5d0dd-92b3-446f-db0c-aceceeae4e87"
      },
      "outputs": [
        {
          "output_type": "execute_result",
          "data": {
            "text/plain": [
              "      calls  minutes  messages   mb_used  is_ultra\n",
              "0      40.0   311.90      83.0  19915.42         0\n",
              "1      85.0   516.75      56.0  22696.96         0\n",
              "2      77.0   467.66      86.0  21060.45         0\n",
              "3     106.0   745.53      81.0   8437.39         1\n",
              "4      66.0   418.74       1.0  14502.75         0\n",
              "...     ...      ...       ...       ...       ...\n",
              "3209  122.0   910.98      20.0  35124.90         1\n",
              "3210   25.0   190.36       0.0   3275.61         0\n",
              "3211   97.0   634.44      70.0  13974.06         0\n",
              "3212   64.0   462.32      90.0  31239.78         0\n",
              "3213   80.0   566.09       6.0  29480.52         1\n",
              "\n",
              "[3214 rows x 5 columns]"
            ],
            "text/html": [
              "\n",
              "  <div id=\"df-af01eac7-192e-4113-9be8-74456aef9775\" class=\"colab-df-container\">\n",
              "    <div>\n",
              "<style scoped>\n",
              "    .dataframe tbody tr th:only-of-type {\n",
              "        vertical-align: middle;\n",
              "    }\n",
              "\n",
              "    .dataframe tbody tr th {\n",
              "        vertical-align: top;\n",
              "    }\n",
              "\n",
              "    .dataframe thead th {\n",
              "        text-align: right;\n",
              "    }\n",
              "</style>\n",
              "<table border=\"1\" class=\"dataframe\">\n",
              "  <thead>\n",
              "    <tr style=\"text-align: right;\">\n",
              "      <th></th>\n",
              "      <th>calls</th>\n",
              "      <th>minutes</th>\n",
              "      <th>messages</th>\n",
              "      <th>mb_used</th>\n",
              "      <th>is_ultra</th>\n",
              "    </tr>\n",
              "  </thead>\n",
              "  <tbody>\n",
              "    <tr>\n",
              "      <th>0</th>\n",
              "      <td>40.0</td>\n",
              "      <td>311.90</td>\n",
              "      <td>83.0</td>\n",
              "      <td>19915.42</td>\n",
              "      <td>0</td>\n",
              "    </tr>\n",
              "    <tr>\n",
              "      <th>1</th>\n",
              "      <td>85.0</td>\n",
              "      <td>516.75</td>\n",
              "      <td>56.0</td>\n",
              "      <td>22696.96</td>\n",
              "      <td>0</td>\n",
              "    </tr>\n",
              "    <tr>\n",
              "      <th>2</th>\n",
              "      <td>77.0</td>\n",
              "      <td>467.66</td>\n",
              "      <td>86.0</td>\n",
              "      <td>21060.45</td>\n",
              "      <td>0</td>\n",
              "    </tr>\n",
              "    <tr>\n",
              "      <th>3</th>\n",
              "      <td>106.0</td>\n",
              "      <td>745.53</td>\n",
              "      <td>81.0</td>\n",
              "      <td>8437.39</td>\n",
              "      <td>1</td>\n",
              "    </tr>\n",
              "    <tr>\n",
              "      <th>4</th>\n",
              "      <td>66.0</td>\n",
              "      <td>418.74</td>\n",
              "      <td>1.0</td>\n",
              "      <td>14502.75</td>\n",
              "      <td>0</td>\n",
              "    </tr>\n",
              "    <tr>\n",
              "      <th>...</th>\n",
              "      <td>...</td>\n",
              "      <td>...</td>\n",
              "      <td>...</td>\n",
              "      <td>...</td>\n",
              "      <td>...</td>\n",
              "    </tr>\n",
              "    <tr>\n",
              "      <th>3209</th>\n",
              "      <td>122.0</td>\n",
              "      <td>910.98</td>\n",
              "      <td>20.0</td>\n",
              "      <td>35124.90</td>\n",
              "      <td>1</td>\n",
              "    </tr>\n",
              "    <tr>\n",
              "      <th>3210</th>\n",
              "      <td>25.0</td>\n",
              "      <td>190.36</td>\n",
              "      <td>0.0</td>\n",
              "      <td>3275.61</td>\n",
              "      <td>0</td>\n",
              "    </tr>\n",
              "    <tr>\n",
              "      <th>3211</th>\n",
              "      <td>97.0</td>\n",
              "      <td>634.44</td>\n",
              "      <td>70.0</td>\n",
              "      <td>13974.06</td>\n",
              "      <td>0</td>\n",
              "    </tr>\n",
              "    <tr>\n",
              "      <th>3212</th>\n",
              "      <td>64.0</td>\n",
              "      <td>462.32</td>\n",
              "      <td>90.0</td>\n",
              "      <td>31239.78</td>\n",
              "      <td>0</td>\n",
              "    </tr>\n",
              "    <tr>\n",
              "      <th>3213</th>\n",
              "      <td>80.0</td>\n",
              "      <td>566.09</td>\n",
              "      <td>6.0</td>\n",
              "      <td>29480.52</td>\n",
              "      <td>1</td>\n",
              "    </tr>\n",
              "  </tbody>\n",
              "</table>\n",
              "<p>3214 rows × 5 columns</p>\n",
              "</div>\n",
              "    <div class=\"colab-df-buttons\">\n",
              "\n",
              "  <div class=\"colab-df-container\">\n",
              "    <button class=\"colab-df-convert\" onclick=\"convertToInteractive('df-af01eac7-192e-4113-9be8-74456aef9775')\"\n",
              "            title=\"Convert this dataframe to an interactive table.\"\n",
              "            style=\"display:none;\">\n",
              "\n",
              "  <svg xmlns=\"http://www.w3.org/2000/svg\" height=\"24px\" viewBox=\"0 -960 960 960\">\n",
              "    <path d=\"M120-120v-720h720v720H120Zm60-500h600v-160H180v160Zm220 220h160v-160H400v160Zm0 220h160v-160H400v160ZM180-400h160v-160H180v160Zm440 0h160v-160H620v160ZM180-180h160v-160H180v160Zm440 0h160v-160H620v160Z\"/>\n",
              "  </svg>\n",
              "    </button>\n",
              "\n",
              "  <style>\n",
              "    .colab-df-container {\n",
              "      display:flex;\n",
              "      gap: 12px;\n",
              "    }\n",
              "\n",
              "    .colab-df-convert {\n",
              "      background-color: #E8F0FE;\n",
              "      border: none;\n",
              "      border-radius: 50%;\n",
              "      cursor: pointer;\n",
              "      display: none;\n",
              "      fill: #1967D2;\n",
              "      height: 32px;\n",
              "      padding: 0 0 0 0;\n",
              "      width: 32px;\n",
              "    }\n",
              "\n",
              "    .colab-df-convert:hover {\n",
              "      background-color: #E2EBFA;\n",
              "      box-shadow: 0px 1px 2px rgba(60, 64, 67, 0.3), 0px 1px 3px 1px rgba(60, 64, 67, 0.15);\n",
              "      fill: #174EA6;\n",
              "    }\n",
              "\n",
              "    .colab-df-buttons div {\n",
              "      margin-bottom: 4px;\n",
              "    }\n",
              "\n",
              "    [theme=dark] .colab-df-convert {\n",
              "      background-color: #3B4455;\n",
              "      fill: #D2E3FC;\n",
              "    }\n",
              "\n",
              "    [theme=dark] .colab-df-convert:hover {\n",
              "      background-color: #434B5C;\n",
              "      box-shadow: 0px 1px 3px 1px rgba(0, 0, 0, 0.15);\n",
              "      filter: drop-shadow(0px 1px 2px rgba(0, 0, 0, 0.3));\n",
              "      fill: #FFFFFF;\n",
              "    }\n",
              "  </style>\n",
              "\n",
              "    <script>\n",
              "      const buttonEl =\n",
              "        document.querySelector('#df-af01eac7-192e-4113-9be8-74456aef9775 button.colab-df-convert');\n",
              "      buttonEl.style.display =\n",
              "        google.colab.kernel.accessAllowed ? 'block' : 'none';\n",
              "\n",
              "      async function convertToInteractive(key) {\n",
              "        const element = document.querySelector('#df-af01eac7-192e-4113-9be8-74456aef9775');\n",
              "        const dataTable =\n",
              "          await google.colab.kernel.invokeFunction('convertToInteractive',\n",
              "                                                    [key], {});\n",
              "        if (!dataTable) return;\n",
              "\n",
              "        const docLinkHtml = 'Like what you see? Visit the ' +\n",
              "          '<a target=\"_blank\" href=https://colab.research.google.com/notebooks/data_table.ipynb>data table notebook</a>'\n",
              "          + ' to learn more about interactive tables.';\n",
              "        element.innerHTML = '';\n",
              "        dataTable['output_type'] = 'display_data';\n",
              "        await google.colab.output.renderOutput(dataTable, element);\n",
              "        const docLink = document.createElement('div');\n",
              "        docLink.innerHTML = docLinkHtml;\n",
              "        element.appendChild(docLink);\n",
              "      }\n",
              "    </script>\n",
              "  </div>\n",
              "\n",
              "\n",
              "<div id=\"df-196ac3ab-6d43-4ab8-8100-85dca32c7146\">\n",
              "  <button class=\"colab-df-quickchart\" onclick=\"quickchart('df-196ac3ab-6d43-4ab8-8100-85dca32c7146')\"\n",
              "            title=\"Suggest charts\"\n",
              "            style=\"display:none;\">\n",
              "\n",
              "<svg xmlns=\"http://www.w3.org/2000/svg\" height=\"24px\"viewBox=\"0 0 24 24\"\n",
              "     width=\"24px\">\n",
              "    <g>\n",
              "        <path d=\"M19 3H5c-1.1 0-2 .9-2 2v14c0 1.1.9 2 2 2h14c1.1 0 2-.9 2-2V5c0-1.1-.9-2-2-2zM9 17H7v-7h2v7zm4 0h-2V7h2v10zm4 0h-2v-4h2v4z\"/>\n",
              "    </g>\n",
              "</svg>\n",
              "  </button>\n",
              "\n",
              "<style>\n",
              "  .colab-df-quickchart {\n",
              "      --bg-color: #E8F0FE;\n",
              "      --fill-color: #1967D2;\n",
              "      --hover-bg-color: #E2EBFA;\n",
              "      --hover-fill-color: #174EA6;\n",
              "      --disabled-fill-color: #AAA;\n",
              "      --disabled-bg-color: #DDD;\n",
              "  }\n",
              "\n",
              "  [theme=dark] .colab-df-quickchart {\n",
              "      --bg-color: #3B4455;\n",
              "      --fill-color: #D2E3FC;\n",
              "      --hover-bg-color: #434B5C;\n",
              "      --hover-fill-color: #FFFFFF;\n",
              "      --disabled-bg-color: #3B4455;\n",
              "      --disabled-fill-color: #666;\n",
              "  }\n",
              "\n",
              "  .colab-df-quickchart {\n",
              "    background-color: var(--bg-color);\n",
              "    border: none;\n",
              "    border-radius: 50%;\n",
              "    cursor: pointer;\n",
              "    display: none;\n",
              "    fill: var(--fill-color);\n",
              "    height: 32px;\n",
              "    padding: 0;\n",
              "    width: 32px;\n",
              "  }\n",
              "\n",
              "  .colab-df-quickchart:hover {\n",
              "    background-color: var(--hover-bg-color);\n",
              "    box-shadow: 0 1px 2px rgba(60, 64, 67, 0.3), 0 1px 3px 1px rgba(60, 64, 67, 0.15);\n",
              "    fill: var(--button-hover-fill-color);\n",
              "  }\n",
              "\n",
              "  .colab-df-quickchart-complete:disabled,\n",
              "  .colab-df-quickchart-complete:disabled:hover {\n",
              "    background-color: var(--disabled-bg-color);\n",
              "    fill: var(--disabled-fill-color);\n",
              "    box-shadow: none;\n",
              "  }\n",
              "\n",
              "  .colab-df-spinner {\n",
              "    border: 2px solid var(--fill-color);\n",
              "    border-color: transparent;\n",
              "    border-bottom-color: var(--fill-color);\n",
              "    animation:\n",
              "      spin 1s steps(1) infinite;\n",
              "  }\n",
              "\n",
              "  @keyframes spin {\n",
              "    0% {\n",
              "      border-color: transparent;\n",
              "      border-bottom-color: var(--fill-color);\n",
              "      border-left-color: var(--fill-color);\n",
              "    }\n",
              "    20% {\n",
              "      border-color: transparent;\n",
              "      border-left-color: var(--fill-color);\n",
              "      border-top-color: var(--fill-color);\n",
              "    }\n",
              "    30% {\n",
              "      border-color: transparent;\n",
              "      border-left-color: var(--fill-color);\n",
              "      border-top-color: var(--fill-color);\n",
              "      border-right-color: var(--fill-color);\n",
              "    }\n",
              "    40% {\n",
              "      border-color: transparent;\n",
              "      border-right-color: var(--fill-color);\n",
              "      border-top-color: var(--fill-color);\n",
              "    }\n",
              "    60% {\n",
              "      border-color: transparent;\n",
              "      border-right-color: var(--fill-color);\n",
              "    }\n",
              "    80% {\n",
              "      border-color: transparent;\n",
              "      border-right-color: var(--fill-color);\n",
              "      border-bottom-color: var(--fill-color);\n",
              "    }\n",
              "    90% {\n",
              "      border-color: transparent;\n",
              "      border-bottom-color: var(--fill-color);\n",
              "    }\n",
              "  }\n",
              "</style>\n",
              "\n",
              "  <script>\n",
              "    async function quickchart(key) {\n",
              "      const quickchartButtonEl =\n",
              "        document.querySelector('#' + key + ' button');\n",
              "      quickchartButtonEl.disabled = true;  // To prevent multiple clicks.\n",
              "      quickchartButtonEl.classList.add('colab-df-spinner');\n",
              "      try {\n",
              "        const charts = await google.colab.kernel.invokeFunction(\n",
              "            'suggestCharts', [key], {});\n",
              "      } catch (error) {\n",
              "        console.error('Error during call to suggestCharts:', error);\n",
              "      }\n",
              "      quickchartButtonEl.classList.remove('colab-df-spinner');\n",
              "      quickchartButtonEl.classList.add('colab-df-quickchart-complete');\n",
              "    }\n",
              "    (() => {\n",
              "      let quickchartButtonEl =\n",
              "        document.querySelector('#df-196ac3ab-6d43-4ab8-8100-85dca32c7146 button');\n",
              "      quickchartButtonEl.style.display =\n",
              "        google.colab.kernel.accessAllowed ? 'block' : 'none';\n",
              "    })();\n",
              "  </script>\n",
              "</div>\n",
              "    </div>\n",
              "  </div>\n"
            ],
            "application/vnd.google.colaboratory.intrinsic+json": {
              "type": "dataframe",
              "variable_name": "df",
              "summary": "{\n  \"name\": \"df\",\n  \"rows\": 3214,\n  \"fields\": [\n    {\n      \"column\": \"calls\",\n      \"properties\": {\n        \"dtype\": \"number\",\n        \"std\": 33.23636754744347,\n        \"min\": 0.0,\n        \"max\": 244.0,\n        \"num_unique_values\": 184,\n        \"samples\": [\n          49.0,\n          124.0,\n          157.0\n        ],\n        \"semantic_type\": \"\",\n        \"description\": \"\"\n      }\n    },\n    {\n      \"column\": \"minutes\",\n      \"properties\": {\n        \"dtype\": \"number\",\n        \"std\": 234.56987217335674,\n        \"min\": 0.0,\n        \"max\": 1632.0600000000004,\n        \"num_unique_values\": 3144,\n        \"samples\": [\n          277.24999999999994,\n          565.14,\n          604.3900000000001\n        ],\n        \"semantic_type\": \"\",\n        \"description\": \"\"\n      }\n    },\n    {\n      \"column\": \"messages\",\n      \"properties\": {\n        \"dtype\": \"number\",\n        \"std\": 36.14832557358993,\n        \"min\": 0.0,\n        \"max\": 224.0,\n        \"num_unique_values\": 180,\n        \"samples\": [\n          19.0,\n          46.0,\n          157.0\n        ],\n        \"semantic_type\": \"\",\n        \"description\": \"\"\n      }\n    },\n    {\n      \"column\": \"mb_used\",\n      \"properties\": {\n        \"dtype\": \"number\",\n        \"std\": 7570.968246251082,\n        \"min\": 0.0,\n        \"max\": 49745.73000000001,\n        \"num_unique_values\": 3203,\n        \"samples\": [\n          20974.219999999998,\n          19427.620000000003,\n          15080.13\n        ],\n        \"semantic_type\": \"\",\n        \"description\": \"\"\n      }\n    },\n    {\n      \"column\": \"is_ultra\",\n      \"properties\": {\n        \"dtype\": \"number\",\n        \"std\": 0,\n        \"min\": 0,\n        \"max\": 1,\n        \"num_unique_values\": 2,\n        \"samples\": [\n          1,\n          0\n        ],\n        \"semantic_type\": \"\",\n        \"description\": \"\"\n      }\n    }\n  ]\n}"
            }
          },
          "metadata": {},
          "execution_count": 52
        }
      ],
      "source": [
        "df = pd.read_csv('users_behavior.csv')\n",
        "df"
      ]
    },
    {
      "cell_type": "markdown",
      "source": [
        "сalls — количество звонков,<br>\n",
        "minutes — суммарная длительность звонков в минутах,<br>\n",
        "messages — количество sms-сообщений,<br>\n",
        "mb_used — израсходованный интернет-трафик в Мб,<br>\n",
        "is_ultra — каким тарифом пользовался в течение месяца («Ультра» — 1, «Смарт» — 0)."
      ],
      "metadata": {
        "id": "KJoMvY44aT_l"
      }
    },
    {
      "cell_type": "code",
      "source": [
        "df.info()"
      ],
      "metadata": {
        "colab": {
          "base_uri": "https://localhost:8080/"
        },
        "id": "GvEtbe-qae6f",
        "outputId": "c71e026a-eb7e-4100-bdc7-cec338c8839f"
      },
      "execution_count": null,
      "outputs": [
        {
          "output_type": "stream",
          "name": "stdout",
          "text": [
            "<class 'pandas.core.frame.DataFrame'>\n",
            "RangeIndex: 3214 entries, 0 to 3213\n",
            "Data columns (total 5 columns):\n",
            " #   Column    Non-Null Count  Dtype  \n",
            "---  ------    --------------  -----  \n",
            " 0   calls     3214 non-null   float64\n",
            " 1   minutes   3214 non-null   float64\n",
            " 2   messages  3214 non-null   float64\n",
            " 3   mb_used   3214 non-null   float64\n",
            " 4   is_ultra  3214 non-null   int64  \n",
            "dtypes: float64(4), int64(1)\n",
            "memory usage: 125.7 KB\n"
          ]
        }
      ]
    },
    {
      "cell_type": "code",
      "source": [
        "df['messages'] = df['messages'].astype('int')"
      ],
      "metadata": {
        "id": "h7KxuD3KZaYT"
      },
      "execution_count": null,
      "outputs": []
    },
    {
      "cell_type": "code",
      "source": [
        "df['calls'] = df['calls'].astype('int')"
      ],
      "metadata": {
        "id": "feo_h9ngZ4bF"
      },
      "execution_count": null,
      "outputs": []
    },
    {
      "cell_type": "code",
      "source": [
        "df.info()"
      ],
      "metadata": {
        "colab": {
          "base_uri": "https://localhost:8080/"
        },
        "id": "GCg85yzSZ1uO",
        "outputId": "b44d9051-74a9-408d-f9fd-de701d5fdeca"
      },
      "execution_count": null,
      "outputs": [
        {
          "output_type": "stream",
          "name": "stdout",
          "text": [
            "<class 'pandas.core.frame.DataFrame'>\n",
            "RangeIndex: 3214 entries, 0 to 3213\n",
            "Data columns (total 5 columns):\n",
            " #   Column    Non-Null Count  Dtype  \n",
            "---  ------    --------------  -----  \n",
            " 0   calls     3214 non-null   int64  \n",
            " 1   minutes   3214 non-null   float64\n",
            " 2   messages  3214 non-null   int64  \n",
            " 3   mb_used   3214 non-null   float64\n",
            " 4   is_ultra  3214 non-null   int64  \n",
            "dtypes: float64(2), int64(3)\n",
            "memory usage: 125.7 KB\n"
          ]
        }
      ]
    },
    {
      "cell_type": "markdown",
      "source": [
        "изменила тип данных у количества званков и сообщений на int, так как они являются целыми числами"
      ],
      "metadata": {
        "id": "DgFBuLvYaBGz"
      }
    },
    {
      "cell_type": "markdown",
      "metadata": {
        "id": "BjYwxclGEgip"
      },
      "source": [
        "## Разбейте данные на выборки"
      ]
    },
    {
      "cell_type": "code",
      "source": [
        "features = df.drop(['is_ultra'], axis=1)\n",
        "features.head()"
      ],
      "metadata": {
        "colab": {
          "base_uri": "https://localhost:8080/",
          "height": 206
        },
        "id": "oV0cLcuQax0E",
        "outputId": "71f92b52-219f-4bb1-abf5-c97db7176de0"
      },
      "execution_count": null,
      "outputs": [
        {
          "output_type": "execute_result",
          "data": {
            "text/plain": [
              "   calls  minutes  messages   mb_used\n",
              "0     40   311.90        83  19915.42\n",
              "1     85   516.75        56  22696.96\n",
              "2     77   467.66        86  21060.45\n",
              "3    106   745.53        81   8437.39\n",
              "4     66   418.74         1  14502.75"
            ],
            "text/html": [
              "\n",
              "  <div id=\"df-0f04479d-88d6-4740-9155-dca16444df67\" class=\"colab-df-container\">\n",
              "    <div>\n",
              "<style scoped>\n",
              "    .dataframe tbody tr th:only-of-type {\n",
              "        vertical-align: middle;\n",
              "    }\n",
              "\n",
              "    .dataframe tbody tr th {\n",
              "        vertical-align: top;\n",
              "    }\n",
              "\n",
              "    .dataframe thead th {\n",
              "        text-align: right;\n",
              "    }\n",
              "</style>\n",
              "<table border=\"1\" class=\"dataframe\">\n",
              "  <thead>\n",
              "    <tr style=\"text-align: right;\">\n",
              "      <th></th>\n",
              "      <th>calls</th>\n",
              "      <th>minutes</th>\n",
              "      <th>messages</th>\n",
              "      <th>mb_used</th>\n",
              "    </tr>\n",
              "  </thead>\n",
              "  <tbody>\n",
              "    <tr>\n",
              "      <th>0</th>\n",
              "      <td>40</td>\n",
              "      <td>311.90</td>\n",
              "      <td>83</td>\n",
              "      <td>19915.42</td>\n",
              "    </tr>\n",
              "    <tr>\n",
              "      <th>1</th>\n",
              "      <td>85</td>\n",
              "      <td>516.75</td>\n",
              "      <td>56</td>\n",
              "      <td>22696.96</td>\n",
              "    </tr>\n",
              "    <tr>\n",
              "      <th>2</th>\n",
              "      <td>77</td>\n",
              "      <td>467.66</td>\n",
              "      <td>86</td>\n",
              "      <td>21060.45</td>\n",
              "    </tr>\n",
              "    <tr>\n",
              "      <th>3</th>\n",
              "      <td>106</td>\n",
              "      <td>745.53</td>\n",
              "      <td>81</td>\n",
              "      <td>8437.39</td>\n",
              "    </tr>\n",
              "    <tr>\n",
              "      <th>4</th>\n",
              "      <td>66</td>\n",
              "      <td>418.74</td>\n",
              "      <td>1</td>\n",
              "      <td>14502.75</td>\n",
              "    </tr>\n",
              "  </tbody>\n",
              "</table>\n",
              "</div>\n",
              "    <div class=\"colab-df-buttons\">\n",
              "\n",
              "  <div class=\"colab-df-container\">\n",
              "    <button class=\"colab-df-convert\" onclick=\"convertToInteractive('df-0f04479d-88d6-4740-9155-dca16444df67')\"\n",
              "            title=\"Convert this dataframe to an interactive table.\"\n",
              "            style=\"display:none;\">\n",
              "\n",
              "  <svg xmlns=\"http://www.w3.org/2000/svg\" height=\"24px\" viewBox=\"0 -960 960 960\">\n",
              "    <path d=\"M120-120v-720h720v720H120Zm60-500h600v-160H180v160Zm220 220h160v-160H400v160Zm0 220h160v-160H400v160ZM180-400h160v-160H180v160Zm440 0h160v-160H620v160ZM180-180h160v-160H180v160Zm440 0h160v-160H620v160Z\"/>\n",
              "  </svg>\n",
              "    </button>\n",
              "\n",
              "  <style>\n",
              "    .colab-df-container {\n",
              "      display:flex;\n",
              "      gap: 12px;\n",
              "    }\n",
              "\n",
              "    .colab-df-convert {\n",
              "      background-color: #E8F0FE;\n",
              "      border: none;\n",
              "      border-radius: 50%;\n",
              "      cursor: pointer;\n",
              "      display: none;\n",
              "      fill: #1967D2;\n",
              "      height: 32px;\n",
              "      padding: 0 0 0 0;\n",
              "      width: 32px;\n",
              "    }\n",
              "\n",
              "    .colab-df-convert:hover {\n",
              "      background-color: #E2EBFA;\n",
              "      box-shadow: 0px 1px 2px rgba(60, 64, 67, 0.3), 0px 1px 3px 1px rgba(60, 64, 67, 0.15);\n",
              "      fill: #174EA6;\n",
              "    }\n",
              "\n",
              "    .colab-df-buttons div {\n",
              "      margin-bottom: 4px;\n",
              "    }\n",
              "\n",
              "    [theme=dark] .colab-df-convert {\n",
              "      background-color: #3B4455;\n",
              "      fill: #D2E3FC;\n",
              "    }\n",
              "\n",
              "    [theme=dark] .colab-df-convert:hover {\n",
              "      background-color: #434B5C;\n",
              "      box-shadow: 0px 1px 3px 1px rgba(0, 0, 0, 0.15);\n",
              "      filter: drop-shadow(0px 1px 2px rgba(0, 0, 0, 0.3));\n",
              "      fill: #FFFFFF;\n",
              "    }\n",
              "  </style>\n",
              "\n",
              "    <script>\n",
              "      const buttonEl =\n",
              "        document.querySelector('#df-0f04479d-88d6-4740-9155-dca16444df67 button.colab-df-convert');\n",
              "      buttonEl.style.display =\n",
              "        google.colab.kernel.accessAllowed ? 'block' : 'none';\n",
              "\n",
              "      async function convertToInteractive(key) {\n",
              "        const element = document.querySelector('#df-0f04479d-88d6-4740-9155-dca16444df67');\n",
              "        const dataTable =\n",
              "          await google.colab.kernel.invokeFunction('convertToInteractive',\n",
              "                                                    [key], {});\n",
              "        if (!dataTable) return;\n",
              "\n",
              "        const docLinkHtml = 'Like what you see? Visit the ' +\n",
              "          '<a target=\"_blank\" href=https://colab.research.google.com/notebooks/data_table.ipynb>data table notebook</a>'\n",
              "          + ' to learn more about interactive tables.';\n",
              "        element.innerHTML = '';\n",
              "        dataTable['output_type'] = 'display_data';\n",
              "        await google.colab.output.renderOutput(dataTable, element);\n",
              "        const docLink = document.createElement('div');\n",
              "        docLink.innerHTML = docLinkHtml;\n",
              "        element.appendChild(docLink);\n",
              "      }\n",
              "    </script>\n",
              "  </div>\n",
              "\n",
              "\n",
              "<div id=\"df-9b97a35b-bb18-4a0e-a29c-a2a64c5e9ede\">\n",
              "  <button class=\"colab-df-quickchart\" onclick=\"quickchart('df-9b97a35b-bb18-4a0e-a29c-a2a64c5e9ede')\"\n",
              "            title=\"Suggest charts\"\n",
              "            style=\"display:none;\">\n",
              "\n",
              "<svg xmlns=\"http://www.w3.org/2000/svg\" height=\"24px\"viewBox=\"0 0 24 24\"\n",
              "     width=\"24px\">\n",
              "    <g>\n",
              "        <path d=\"M19 3H5c-1.1 0-2 .9-2 2v14c0 1.1.9 2 2 2h14c1.1 0 2-.9 2-2V5c0-1.1-.9-2-2-2zM9 17H7v-7h2v7zm4 0h-2V7h2v10zm4 0h-2v-4h2v4z\"/>\n",
              "    </g>\n",
              "</svg>\n",
              "  </button>\n",
              "\n",
              "<style>\n",
              "  .colab-df-quickchart {\n",
              "      --bg-color: #E8F0FE;\n",
              "      --fill-color: #1967D2;\n",
              "      --hover-bg-color: #E2EBFA;\n",
              "      --hover-fill-color: #174EA6;\n",
              "      --disabled-fill-color: #AAA;\n",
              "      --disabled-bg-color: #DDD;\n",
              "  }\n",
              "\n",
              "  [theme=dark] .colab-df-quickchart {\n",
              "      --bg-color: #3B4455;\n",
              "      --fill-color: #D2E3FC;\n",
              "      --hover-bg-color: #434B5C;\n",
              "      --hover-fill-color: #FFFFFF;\n",
              "      --disabled-bg-color: #3B4455;\n",
              "      --disabled-fill-color: #666;\n",
              "  }\n",
              "\n",
              "  .colab-df-quickchart {\n",
              "    background-color: var(--bg-color);\n",
              "    border: none;\n",
              "    border-radius: 50%;\n",
              "    cursor: pointer;\n",
              "    display: none;\n",
              "    fill: var(--fill-color);\n",
              "    height: 32px;\n",
              "    padding: 0;\n",
              "    width: 32px;\n",
              "  }\n",
              "\n",
              "  .colab-df-quickchart:hover {\n",
              "    background-color: var(--hover-bg-color);\n",
              "    box-shadow: 0 1px 2px rgba(60, 64, 67, 0.3), 0 1px 3px 1px rgba(60, 64, 67, 0.15);\n",
              "    fill: var(--button-hover-fill-color);\n",
              "  }\n",
              "\n",
              "  .colab-df-quickchart-complete:disabled,\n",
              "  .colab-df-quickchart-complete:disabled:hover {\n",
              "    background-color: var(--disabled-bg-color);\n",
              "    fill: var(--disabled-fill-color);\n",
              "    box-shadow: none;\n",
              "  }\n",
              "\n",
              "  .colab-df-spinner {\n",
              "    border: 2px solid var(--fill-color);\n",
              "    border-color: transparent;\n",
              "    border-bottom-color: var(--fill-color);\n",
              "    animation:\n",
              "      spin 1s steps(1) infinite;\n",
              "  }\n",
              "\n",
              "  @keyframes spin {\n",
              "    0% {\n",
              "      border-color: transparent;\n",
              "      border-bottom-color: var(--fill-color);\n",
              "      border-left-color: var(--fill-color);\n",
              "    }\n",
              "    20% {\n",
              "      border-color: transparent;\n",
              "      border-left-color: var(--fill-color);\n",
              "      border-top-color: var(--fill-color);\n",
              "    }\n",
              "    30% {\n",
              "      border-color: transparent;\n",
              "      border-left-color: var(--fill-color);\n",
              "      border-top-color: var(--fill-color);\n",
              "      border-right-color: var(--fill-color);\n",
              "    }\n",
              "    40% {\n",
              "      border-color: transparent;\n",
              "      border-right-color: var(--fill-color);\n",
              "      border-top-color: var(--fill-color);\n",
              "    }\n",
              "    60% {\n",
              "      border-color: transparent;\n",
              "      border-right-color: var(--fill-color);\n",
              "    }\n",
              "    80% {\n",
              "      border-color: transparent;\n",
              "      border-right-color: var(--fill-color);\n",
              "      border-bottom-color: var(--fill-color);\n",
              "    }\n",
              "    90% {\n",
              "      border-color: transparent;\n",
              "      border-bottom-color: var(--fill-color);\n",
              "    }\n",
              "  }\n",
              "</style>\n",
              "\n",
              "  <script>\n",
              "    async function quickchart(key) {\n",
              "      const quickchartButtonEl =\n",
              "        document.querySelector('#' + key + ' button');\n",
              "      quickchartButtonEl.disabled = true;  // To prevent multiple clicks.\n",
              "      quickchartButtonEl.classList.add('colab-df-spinner');\n",
              "      try {\n",
              "        const charts = await google.colab.kernel.invokeFunction(\n",
              "            'suggestCharts', [key], {});\n",
              "      } catch (error) {\n",
              "        console.error('Error during call to suggestCharts:', error);\n",
              "      }\n",
              "      quickchartButtonEl.classList.remove('colab-df-spinner');\n",
              "      quickchartButtonEl.classList.add('colab-df-quickchart-complete');\n",
              "    }\n",
              "    (() => {\n",
              "      let quickchartButtonEl =\n",
              "        document.querySelector('#df-9b97a35b-bb18-4a0e-a29c-a2a64c5e9ede button');\n",
              "      quickchartButtonEl.style.display =\n",
              "        google.colab.kernel.accessAllowed ? 'block' : 'none';\n",
              "    })();\n",
              "  </script>\n",
              "</div>\n",
              "    </div>\n",
              "  </div>\n"
            ],
            "application/vnd.google.colaboratory.intrinsic+json": {
              "type": "dataframe",
              "variable_name": "features",
              "summary": "{\n  \"name\": \"features\",\n  \"rows\": 3214,\n  \"fields\": [\n    {\n      \"column\": \"calls\",\n      \"properties\": {\n        \"dtype\": \"number\",\n        \"std\": 33,\n        \"min\": 0,\n        \"max\": 244,\n        \"num_unique_values\": 184,\n        \"samples\": [\n          49,\n          124,\n          157\n        ],\n        \"semantic_type\": \"\",\n        \"description\": \"\"\n      }\n    },\n    {\n      \"column\": \"minutes\",\n      \"properties\": {\n        \"dtype\": \"number\",\n        \"std\": 234.56987217335674,\n        \"min\": 0.0,\n        \"max\": 1632.0600000000004,\n        \"num_unique_values\": 3144,\n        \"samples\": [\n          277.24999999999994,\n          565.14,\n          604.3900000000001\n        ],\n        \"semantic_type\": \"\",\n        \"description\": \"\"\n      }\n    },\n    {\n      \"column\": \"messages\",\n      \"properties\": {\n        \"dtype\": \"number\",\n        \"std\": 36,\n        \"min\": 0,\n        \"max\": 224,\n        \"num_unique_values\": 180,\n        \"samples\": [\n          19,\n          46,\n          157\n        ],\n        \"semantic_type\": \"\",\n        \"description\": \"\"\n      }\n    },\n    {\n      \"column\": \"mb_used\",\n      \"properties\": {\n        \"dtype\": \"number\",\n        \"std\": 7570.968246251082,\n        \"min\": 0.0,\n        \"max\": 49745.73000000001,\n        \"num_unique_values\": 3203,\n        \"samples\": [\n          20974.219999999998,\n          19427.620000000003,\n          15080.13\n        ],\n        \"semantic_type\": \"\",\n        \"description\": \"\"\n      }\n    }\n  ]\n}"
            }
          },
          "metadata": {},
          "execution_count": 22
        }
      ]
    },
    {
      "cell_type": "code",
      "source": [
        "target = df['is_ultra']\n",
        "target.head()"
      ],
      "metadata": {
        "colab": {
          "base_uri": "https://localhost:8080/",
          "height": 241
        },
        "id": "CzwPJN0xbGi3",
        "outputId": "9da81aa8-89bf-4f95-89ec-dca8d8f924ec"
      },
      "execution_count": null,
      "outputs": [
        {
          "output_type": "execute_result",
          "data": {
            "text/plain": [
              "0    0\n",
              "1    0\n",
              "2    0\n",
              "3    1\n",
              "4    0\n",
              "Name: is_ultra, dtype: int64"
            ],
            "text/html": [
              "<div>\n",
              "<style scoped>\n",
              "    .dataframe tbody tr th:only-of-type {\n",
              "        vertical-align: middle;\n",
              "    }\n",
              "\n",
              "    .dataframe tbody tr th {\n",
              "        vertical-align: top;\n",
              "    }\n",
              "\n",
              "    .dataframe thead th {\n",
              "        text-align: right;\n",
              "    }\n",
              "</style>\n",
              "<table border=\"1\" class=\"dataframe\">\n",
              "  <thead>\n",
              "    <tr style=\"text-align: right;\">\n",
              "      <th></th>\n",
              "      <th>is_ultra</th>\n",
              "    </tr>\n",
              "  </thead>\n",
              "  <tbody>\n",
              "    <tr>\n",
              "      <th>0</th>\n",
              "      <td>0</td>\n",
              "    </tr>\n",
              "    <tr>\n",
              "      <th>1</th>\n",
              "      <td>0</td>\n",
              "    </tr>\n",
              "    <tr>\n",
              "      <th>2</th>\n",
              "      <td>0</td>\n",
              "    </tr>\n",
              "    <tr>\n",
              "      <th>3</th>\n",
              "      <td>1</td>\n",
              "    </tr>\n",
              "    <tr>\n",
              "      <th>4</th>\n",
              "      <td>0</td>\n",
              "    </tr>\n",
              "  </tbody>\n",
              "</table>\n",
              "</div><br><label><b>dtype:</b> int64</label>"
            ]
          },
          "metadata": {},
          "execution_count": 23
        }
      ]
    },
    {
      "cell_type": "code",
      "source": [
        "from sklearn.model_selection import train_test_split"
      ],
      "metadata": {
        "id": "T0CKunSAbP1V"
      },
      "execution_count": null,
      "outputs": []
    },
    {
      "cell_type": "code",
      "execution_count": null,
      "metadata": {
        "id": "gyBxZ0o2Egip"
      },
      "outputs": [],
      "source": [
        "features_full_train, features_test, target_full_train, target_test = train_test_split(\n",
        "    features, target, test_size=0.25, random_state=12345)"
      ]
    },
    {
      "cell_type": "code",
      "source": [
        "features_train, features_valid, target_train, target_valid = train_test_split(\n",
        "    features_full_train, target_full_train, test_size=0.25, random_state=12345)"
      ],
      "metadata": {
        "id": "z8Z9bplvb_bF"
      },
      "execution_count": null,
      "outputs": []
    },
    {
      "cell_type": "code",
      "source": [
        "features_train.shape, features_valid.shape, features_test.shape"
      ],
      "metadata": {
        "colab": {
          "base_uri": "https://localhost:8080/"
        },
        "id": "0Dtf0IMpeGza",
        "outputId": "4a5bec5e-61e2-486f-ca95-ba9065b9f226"
      },
      "execution_count": null,
      "outputs": [
        {
          "output_type": "execute_result",
          "data": {
            "text/plain": [
              "((1807, 4), (603, 4), (804, 4))"
            ]
          },
          "metadata": {},
          "execution_count": 29
        }
      ]
    },
    {
      "cell_type": "markdown",
      "metadata": {
        "id": "O7_9lXulEgip"
      },
      "source": [
        "## Исследуйте модели"
      ]
    },
    {
      "cell_type": "markdown",
      "source": [
        "Дерево решений"
      ],
      "metadata": {
        "id": "uEBkUVzje5Gk"
      }
    },
    {
      "cell_type": "code",
      "source": [
        "from sklearn.tree import DecisionTreeClassifier\n",
        "best_model = None\n",
        "best_result = 0\n",
        "count_deep = 0\n",
        "for i in range(1, 6):\n",
        "  model = DecisionTreeClassifier(random_state = 12345, max_depth=i)\n",
        "  model.fit(features_train, target_train)\n",
        "  result = model.score(features_valid, target_valid)\n",
        "  if result > best_result:\n",
        "        best_model = model\n",
        "        best_result = result\n",
        "        count_deep = i\n",
        "print(f'Accuracy наилучшей модели дерева решений (с глубиной:{count_deep}) на валидационной выборке составило:{best_result}')"
      ],
      "metadata": {
        "colab": {
          "base_uri": "https://localhost:8080/"
        },
        "id": "fshPFGYhex3w",
        "outputId": "d3a4da67-dc6b-4dd3-bd5f-acb1c1a1403a"
      },
      "execution_count": null,
      "outputs": [
        {
          "output_type": "stream",
          "name": "stdout",
          "text": [
            "Accuracy наилучшей модели дерева решений (с глубиной:3) на валидационной выборке составило:0.7943615257048093\n"
          ]
        }
      ]
    },
    {
      "cell_type": "markdown",
      "source": [
        "Случайный лес"
      ],
      "metadata": {
        "id": "YdAD7rhqe-rB"
      }
    },
    {
      "cell_type": "code",
      "execution_count": null,
      "metadata": {
        "id": "H7jesy2_Egip",
        "colab": {
          "base_uri": "https://localhost:8080/"
        },
        "outputId": "07f7e95f-47b9-42a7-ec98-b2b3c730fa1b"
      },
      "outputs": [
        {
          "output_type": "stream",
          "name": "stdout",
          "text": [
            "Accuracy наилучшей модели случайного леса (с количеством деревьев:20) на валидационной выборке составило:0.8275290215588723\n"
          ]
        }
      ],
      "source": [
        "from sklearn.ensemble import RandomForestClassifier\n",
        "best_model = None\n",
        "best_result = 0\n",
        "count_tree = 0\n",
        "for est in range(1, 70):\n",
        "    model = RandomForestClassifier(random_state=12345, n_estimators=est)\n",
        "    model.fit(features_train, target_train)\n",
        "    result = model.score(features_valid, target_valid)\n",
        "    if result > best_result:\n",
        "        best_model = model\n",
        "        best_result = result\n",
        "        count_tree = est\n",
        "print(f'Accuracy наилучшей модели случайного леса (с количеством деревьев:{count_tree}) на валидационной выборке составило:{best_result}')"
      ]
    },
    {
      "cell_type": "code",
      "source": [
        "df.info()"
      ],
      "metadata": {
        "colab": {
          "base_uri": "https://localhost:8080/"
        },
        "outputId": "c71e026a-eb7e-4100-bdc7-cec338c8839f",
        "id": "hteL21KoqfcR"
      },
      "execution_count": null,
      "outputs": [
        {
          "output_type": "stream",
          "name": "stdout",
          "text": [
            "<class 'pandas.core.frame.DataFrame'>\n",
            "RangeIndex: 3214 entries, 0 to 3213\n",
            "Data columns (total 5 columns):\n",
            " #   Column    Non-Null Count  Dtype  \n",
            "---  ------    --------------  -----  \n",
            " 0   calls     3214 non-null   float64\n",
            " 1   minutes   3214 non-null   float64\n",
            " 2   messages  3214 non-null   float64\n",
            " 3   mb_used   3214 non-null   float64\n",
            " 4   is_ultra  3214 non-null   int64  \n",
            "dtypes: float64(4), int64(1)\n",
            "memory usage: 125.7 KB\n"
          ]
        }
      ]
    },
    {
      "cell_type": "code",
      "source": [
        "df['messages'] = df['messages'].astype('int')"
      ],
      "metadata": {
        "id": "qzgZRlG1qfcS"
      },
      "execution_count": null,
      "outputs": []
    },
    {
      "cell_type": "code",
      "source": [
        "df['calls'] = df['calls'].astype('int')"
      ],
      "metadata": {
        "id": "6Nw9KVdqqfcS"
      },
      "execution_count": null,
      "outputs": []
    },
    {
      "cell_type": "code",
      "source": [
        "df.info()"
      ],
      "metadata": {
        "colab": {
          "base_uri": "https://localhost:8080/"
        },
        "outputId": "b44d9051-74a9-408d-f9fd-de701d5fdeca",
        "id": "0BPBL4gjqfcS"
      },
      "execution_count": null,
      "outputs": [
        {
          "output_type": "stream",
          "name": "stdout",
          "text": [
            "<class 'pandas.core.frame.DataFrame'>\n",
            "RangeIndex: 3214 entries, 0 to 3213\n",
            "Data columns (total 5 columns):\n",
            " #   Column    Non-Null Count  Dtype  \n",
            "---  ------    --------------  -----  \n",
            " 0   calls     3214 non-null   int64  \n",
            " 1   minutes   3214 non-null   float64\n",
            " 2   messages  3214 non-null   int64  \n",
            " 3   mb_used   3214 non-null   float64\n",
            " 4   is_ultra  3214 non-null   int64  \n",
            "dtypes: float64(2), int64(3)\n",
            "memory usage: 125.7 KB\n"
          ]
        }
      ]
    },
    {
      "cell_type": "markdown",
      "source": [
        "изменила тип данных у количества званков и сообщений на int, так как они являются целыми числами"
      ],
      "metadata": {
        "id": "CARjhmGHqfcT"
      }
    },
    {
      "cell_type": "markdown",
      "metadata": {
        "id": "n2kuO6M9qfcT"
      },
      "source": [
        "## Разбейте данные на выборки"
      ]
    },
    {
      "cell_type": "code",
      "source": [
        "features = df.drop(['is_ultra'], axis=1)\n",
        "features.head()"
      ],
      "metadata": {
        "colab": {
          "base_uri": "https://localhost:8080/",
          "height": 206
        },
        "outputId": "71f92b52-219f-4bb1-abf5-c97db7176de0",
        "id": "govaXkkIqfcT"
      },
      "execution_count": null,
      "outputs": [
        {
          "output_type": "execute_result",
          "data": {
            "text/plain": [
              "   calls  minutes  messages   mb_used\n",
              "0     40   311.90        83  19915.42\n",
              "1     85   516.75        56  22696.96\n",
              "2     77   467.66        86  21060.45\n",
              "3    106   745.53        81   8437.39\n",
              "4     66   418.74         1  14502.75"
            ],
            "text/html": [
              "\n",
              "  <div id=\"df-0f04479d-88d6-4740-9155-dca16444df67\" class=\"colab-df-container\">\n",
              "    <div>\n",
              "<style scoped>\n",
              "    .dataframe tbody tr th:only-of-type {\n",
              "        vertical-align: middle;\n",
              "    }\n",
              "\n",
              "    .dataframe tbody tr th {\n",
              "        vertical-align: top;\n",
              "    }\n",
              "\n",
              "    .dataframe thead th {\n",
              "        text-align: right;\n",
              "    }\n",
              "</style>\n",
              "<table border=\"1\" class=\"dataframe\">\n",
              "  <thead>\n",
              "    <tr style=\"text-align: right;\">\n",
              "      <th></th>\n",
              "      <th>calls</th>\n",
              "      <th>minutes</th>\n",
              "      <th>messages</th>\n",
              "      <th>mb_used</th>\n",
              "    </tr>\n",
              "  </thead>\n",
              "  <tbody>\n",
              "    <tr>\n",
              "      <th>0</th>\n",
              "      <td>40</td>\n",
              "      <td>311.90</td>\n",
              "      <td>83</td>\n",
              "      <td>19915.42</td>\n",
              "    </tr>\n",
              "    <tr>\n",
              "      <th>1</th>\n",
              "      <td>85</td>\n",
              "      <td>516.75</td>\n",
              "      <td>56</td>\n",
              "      <td>22696.96</td>\n",
              "    </tr>\n",
              "    <tr>\n",
              "      <th>2</th>\n",
              "      <td>77</td>\n",
              "      <td>467.66</td>\n",
              "      <td>86</td>\n",
              "      <td>21060.45</td>\n",
              "    </tr>\n",
              "    <tr>\n",
              "      <th>3</th>\n",
              "      <td>106</td>\n",
              "      <td>745.53</td>\n",
              "      <td>81</td>\n",
              "      <td>8437.39</td>\n",
              "    </tr>\n",
              "    <tr>\n",
              "      <th>4</th>\n",
              "      <td>66</td>\n",
              "      <td>418.74</td>\n",
              "      <td>1</td>\n",
              "      <td>14502.75</td>\n",
              "    </tr>\n",
              "  </tbody>\n",
              "</table>\n",
              "</div>\n",
              "    <div class=\"colab-df-buttons\">\n",
              "\n",
              "  <div class=\"colab-df-container\">\n",
              "    <button class=\"colab-df-convert\" onclick=\"convertToInteractive('df-0f04479d-88d6-4740-9155-dca16444df67')\"\n",
              "            title=\"Convert this dataframe to an interactive table.\"\n",
              "            style=\"display:none;\">\n",
              "\n",
              "  <svg xmlns=\"http://www.w3.org/2000/svg\" height=\"24px\" viewBox=\"0 -960 960 960\">\n",
              "    <path d=\"M120-120v-720h720v720H120Zm60-500h600v-160H180v160Zm220 220h160v-160H400v160Zm0 220h160v-160H400v160ZM180-400h160v-160H180v160Zm440 0h160v-160H620v160ZM180-180h160v-160H180v160Zm440 0h160v-160H620v160Z\"/>\n",
              "  </svg>\n",
              "    </button>\n",
              "\n",
              "  <style>\n",
              "    .colab-df-container {\n",
              "      display:flex;\n",
              "      gap: 12px;\n",
              "    }\n",
              "\n",
              "    .colab-df-convert {\n",
              "      background-color: #E8F0FE;\n",
              "      border: none;\n",
              "      border-radius: 50%;\n",
              "      cursor: pointer;\n",
              "      display: none;\n",
              "      fill: #1967D2;\n",
              "      height: 32px;\n",
              "      padding: 0 0 0 0;\n",
              "      width: 32px;\n",
              "    }\n",
              "\n",
              "    .colab-df-convert:hover {\n",
              "      background-color: #E2EBFA;\n",
              "      box-shadow: 0px 1px 2px rgba(60, 64, 67, 0.3), 0px 1px 3px 1px rgba(60, 64, 67, 0.15);\n",
              "      fill: #174EA6;\n",
              "    }\n",
              "\n",
              "    .colab-df-buttons div {\n",
              "      margin-bottom: 4px;\n",
              "    }\n",
              "\n",
              "    [theme=dark] .colab-df-convert {\n",
              "      background-color: #3B4455;\n",
              "      fill: #D2E3FC;\n",
              "    }\n",
              "\n",
              "    [theme=dark] .colab-df-convert:hover {\n",
              "      background-color: #434B5C;\n",
              "      box-shadow: 0px 1px 3px 1px rgba(0, 0, 0, 0.15);\n",
              "      filter: drop-shadow(0px 1px 2px rgba(0, 0, 0, 0.3));\n",
              "      fill: #FFFFFF;\n",
              "    }\n",
              "  </style>\n",
              "\n",
              "    <script>\n",
              "      const buttonEl =\n",
              "        document.querySelector('#df-0f04479d-88d6-4740-9155-dca16444df67 button.colab-df-convert');\n",
              "      buttonEl.style.display =\n",
              "        google.colab.kernel.accessAllowed ? 'block' : 'none';\n",
              "\n",
              "      async function convertToInteractive(key) {\n",
              "        const element = document.querySelector('#df-0f04479d-88d6-4740-9155-dca16444df67');\n",
              "        const dataTable =\n",
              "          await google.colab.kernel.invokeFunction('convertToInteractive',\n",
              "                                                    [key], {});\n",
              "        if (!dataTable) return;\n",
              "\n",
              "        const docLinkHtml = 'Like what you see? Visit the ' +\n",
              "          '<a target=\"_blank\" href=https://colab.research.google.com/notebooks/data_table.ipynb>data table notebook</a>'\n",
              "          + ' to learn more about interactive tables.';\n",
              "        element.innerHTML = '';\n",
              "        dataTable['output_type'] = 'display_data';\n",
              "        await google.colab.output.renderOutput(dataTable, element);\n",
              "        const docLink = document.createElement('div');\n",
              "        docLink.innerHTML = docLinkHtml;\n",
              "        element.appendChild(docLink);\n",
              "      }\n",
              "    </script>\n",
              "  </div>\n",
              "\n",
              "\n",
              "<div id=\"df-9b97a35b-bb18-4a0e-a29c-a2a64c5e9ede\">\n",
              "  <button class=\"colab-df-quickchart\" onclick=\"quickchart('df-9b97a35b-bb18-4a0e-a29c-a2a64c5e9ede')\"\n",
              "            title=\"Suggest charts\"\n",
              "            style=\"display:none;\">\n",
              "\n",
              "<svg xmlns=\"http://www.w3.org/2000/svg\" height=\"24px\"viewBox=\"0 0 24 24\"\n",
              "     width=\"24px\">\n",
              "    <g>\n",
              "        <path d=\"M19 3H5c-1.1 0-2 .9-2 2v14c0 1.1.9 2 2 2h14c1.1 0 2-.9 2-2V5c0-1.1-.9-2-2-2zM9 17H7v-7h2v7zm4 0h-2V7h2v10zm4 0h-2v-4h2v4z\"/>\n",
              "    </g>\n",
              "</svg>\n",
              "  </button>\n",
              "\n",
              "<style>\n",
              "  .colab-df-quickchart {\n",
              "      --bg-color: #E8F0FE;\n",
              "      --fill-color: #1967D2;\n",
              "      --hover-bg-color: #E2EBFA;\n",
              "      --hover-fill-color: #174EA6;\n",
              "      --disabled-fill-color: #AAA;\n",
              "      --disabled-bg-color: #DDD;\n",
              "  }\n",
              "\n",
              "  [theme=dark] .colab-df-quickchart {\n",
              "      --bg-color: #3B4455;\n",
              "      --fill-color: #D2E3FC;\n",
              "      --hover-bg-color: #434B5C;\n",
              "      --hover-fill-color: #FFFFFF;\n",
              "      --disabled-bg-color: #3B4455;\n",
              "      --disabled-fill-color: #666;\n",
              "  }\n",
              "\n",
              "  .colab-df-quickchart {\n",
              "    background-color: var(--bg-color);\n",
              "    border: none;\n",
              "    border-radius: 50%;\n",
              "    cursor: pointer;\n",
              "    display: none;\n",
              "    fill: var(--fill-color);\n",
              "    height: 32px;\n",
              "    padding: 0;\n",
              "    width: 32px;\n",
              "  }\n",
              "\n",
              "  .colab-df-quickchart:hover {\n",
              "    background-color: var(--hover-bg-color);\n",
              "    box-shadow: 0 1px 2px rgba(60, 64, 67, 0.3), 0 1px 3px 1px rgba(60, 64, 67, 0.15);\n",
              "    fill: var(--button-hover-fill-color);\n",
              "  }\n",
              "\n",
              "  .colab-df-quickchart-complete:disabled,\n",
              "  .colab-df-quickchart-complete:disabled:hover {\n",
              "    background-color: var(--disabled-bg-color);\n",
              "    fill: var(--disabled-fill-color);\n",
              "    box-shadow: none;\n",
              "  }\n",
              "\n",
              "  .colab-df-spinner {\n",
              "    border: 2px solid var(--fill-color);\n",
              "    border-color: transparent;\n",
              "    border-bottom-color: var(--fill-color);\n",
              "    animation:\n",
              "      spin 1s steps(1) infinite;\n",
              "  }\n",
              "\n",
              "  @keyframes spin {\n",
              "    0% {\n",
              "      border-color: transparent;\n",
              "      border-bottom-color: var(--fill-color);\n",
              "      border-left-color: var(--fill-color);\n",
              "    }\n",
              "    20% {\n",
              "      border-color: transparent;\n",
              "      border-left-color: var(--fill-color);\n",
              "      border-top-color: var(--fill-color);\n",
              "    }\n",
              "    30% {\n",
              "      border-color: transparent;\n",
              "      border-left-color: var(--fill-color);\n",
              "      border-top-color: var(--fill-color);\n",
              "      border-right-color: var(--fill-color);\n",
              "    }\n",
              "    40% {\n",
              "      border-color: transparent;\n",
              "      border-right-color: var(--fill-color);\n",
              "      border-top-color: var(--fill-color);\n",
              "    }\n",
              "    60% {\n",
              "      border-color: transparent;\n",
              "      border-right-color: var(--fill-color);\n",
              "    }\n",
              "    80% {\n",
              "      border-color: transparent;\n",
              "      border-right-color: var(--fill-color);\n",
              "      border-bottom-color: var(--fill-color);\n",
              "    }\n",
              "    90% {\n",
              "      border-color: transparent;\n",
              "      border-bottom-color: var(--fill-color);\n",
              "    }\n",
              "  }\n",
              "</style>\n",
              "\n",
              "  <script>\n",
              "    async function quickchart(key) {\n",
              "      const quickchartButtonEl =\n",
              "        document.querySelector('#' + key + ' button');\n",
              "      quickchartButtonEl.disabled = true;  // To prevent multiple clicks.\n",
              "      quickchartButtonEl.classList.add('colab-df-spinner');\n",
              "      try {\n",
              "        const charts = await google.colab.kernel.invokeFunction(\n",
              "            'suggestCharts', [key], {});\n",
              "      } catch (error) {\n",
              "        console.error('Error during call to suggestCharts:', error);\n",
              "      }\n",
              "      quickchartButtonEl.classList.remove('colab-df-spinner');\n",
              "      quickchartButtonEl.classList.add('colab-df-quickchart-complete');\n",
              "    }\n",
              "    (() => {\n",
              "      let quickchartButtonEl =\n",
              "        document.querySelector('#df-9b97a35b-bb18-4a0e-a29c-a2a64c5e9ede button');\n",
              "      quickchartButtonEl.style.display =\n",
              "        google.colab.kernel.accessAllowed ? 'block' : 'none';\n",
              "    })();\n",
              "  </script>\n",
              "</div>\n",
              "    </div>\n",
              "  </div>\n"
            ],
            "application/vnd.google.colaboratory.intrinsic+json": {
              "type": "dataframe",
              "variable_name": "features",
              "summary": "{\n  \"name\": \"features\",\n  \"rows\": 3214,\n  \"fields\": [\n    {\n      \"column\": \"calls\",\n      \"properties\": {\n        \"dtype\": \"number\",\n        \"std\": 33,\n        \"min\": 0,\n        \"max\": 244,\n        \"num_unique_values\": 184,\n        \"samples\": [\n          49,\n          124,\n          157\n        ],\n        \"semantic_type\": \"\",\n        \"description\": \"\"\n      }\n    },\n    {\n      \"column\": \"minutes\",\n      \"properties\": {\n        \"dtype\": \"number\",\n        \"std\": 234.56987217335674,\n        \"min\": 0.0,\n        \"max\": 1632.0600000000004,\n        \"num_unique_values\": 3144,\n        \"samples\": [\n          277.24999999999994,\n          565.14,\n          604.3900000000001\n        ],\n        \"semantic_type\": \"\",\n        \"description\": \"\"\n      }\n    },\n    {\n      \"column\": \"messages\",\n      \"properties\": {\n        \"dtype\": \"number\",\n        \"std\": 36,\n        \"min\": 0,\n        \"max\": 224,\n        \"num_unique_values\": 180,\n        \"samples\": [\n          19,\n          46,\n          157\n        ],\n        \"semantic_type\": \"\",\n        \"description\": \"\"\n      }\n    },\n    {\n      \"column\": \"mb_used\",\n      \"properties\": {\n        \"dtype\": \"number\",\n        \"std\": 7570.968246251082,\n        \"min\": 0.0,\n        \"max\": 49745.73000000001,\n        \"num_unique_values\": 3203,\n        \"samples\": [\n          20974.219999999998,\n          19427.620000000003,\n          15080.13\n        ],\n        \"semantic_type\": \"\",\n        \"description\": \"\"\n      }\n    }\n  ]\n}"
            }
          },
          "metadata": {},
          "execution_count": 22
        }
      ]
    },
    {
      "cell_type": "code",
      "source": [
        "target = df['is_ultra']\n",
        "target.head()"
      ],
      "metadata": {
        "colab": {
          "base_uri": "https://localhost:8080/",
          "height": 241
        },
        "outputId": "9da81aa8-89bf-4f95-89ec-dca8d8f924ec",
        "id": "2W1RwgE0qfcT"
      },
      "execution_count": null,
      "outputs": [
        {
          "output_type": "execute_result",
          "data": {
            "text/plain": [
              "0    0\n",
              "1    0\n",
              "2    0\n",
              "3    1\n",
              "4    0\n",
              "Name: is_ultra, dtype: int64"
            ],
            "text/html": [
              "<div>\n",
              "<style scoped>\n",
              "    .dataframe tbody tr th:only-of-type {\n",
              "        vertical-align: middle;\n",
              "    }\n",
              "\n",
              "    .dataframe tbody tr th {\n",
              "        vertical-align: top;\n",
              "    }\n",
              "\n",
              "    .dataframe thead th {\n",
              "        text-align: right;\n",
              "    }\n",
              "</style>\n",
              "<table border=\"1\" class=\"dataframe\">\n",
              "  <thead>\n",
              "    <tr style=\"text-align: right;\">\n",
              "      <th></th>\n",
              "      <th>is_ultra</th>\n",
              "    </tr>\n",
              "  </thead>\n",
              "  <tbody>\n",
              "    <tr>\n",
              "      <th>0</th>\n",
              "      <td>0</td>\n",
              "    </tr>\n",
              "    <tr>\n",
              "      <th>1</th>\n",
              "      <td>0</td>\n",
              "    </tr>\n",
              "    <tr>\n",
              "      <th>2</th>\n",
              "      <td>0</td>\n",
              "    </tr>\n",
              "    <tr>\n",
              "      <th>3</th>\n",
              "      <td>1</td>\n",
              "    </tr>\n",
              "    <tr>\n",
              "      <th>4</th>\n",
              "      <td>0</td>\n",
              "    </tr>\n",
              "  </tbody>\n",
              "</table>\n",
              "</div><br><label><b>dtype:</b> int64</label>"
            ]
          },
          "metadata": {},
          "execution_count": 23
        }
      ]
    },
    {
      "cell_type": "code",
      "source": [
        "from sklearn.model_selection import train_test_split"
      ],
      "metadata": {
        "id": "xmkfijyrqfcT"
      },
      "execution_count": null,
      "outputs": []
    },
    {
      "cell_type": "code",
      "execution_count": null,
      "metadata": {
        "id": "WCJjWQxiqfcT"
      },
      "outputs": [],
      "source": [
        "features_full_train, features_test, target_full_train, target_test = train_test_split(\n",
        "    features, target, test_size=0.25, random_state=12345)"
      ]
    },
    {
      "cell_type": "code",
      "source": [
        "features_train, features_valid, target_train, target_valid = train_test_split(\n",
        "    features_full_train, target_full_train, test_size=0.25, random_state=12345)"
      ],
      "metadata": {
        "id": "Dvn3e59AqfcT"
      },
      "execution_count": null,
      "outputs": []
    },
    {
      "cell_type": "code",
      "source": [
        "features_train.shape, features_valid.shape, features_test.shape"
      ],
      "metadata": {
        "colab": {
          "base_uri": "https://localhost:8080/"
        },
        "outputId": "4a5bec5e-61e2-486f-ca95-ba9065b9f226",
        "id": "0_i_LhqgqfcT"
      },
      "execution_count": null,
      "outputs": [
        {
          "output_type": "execute_result",
          "data": {
            "text/plain": [
              "((1807, 4), (603, 4), (804, 4))"
            ]
          },
          "metadata": {},
          "execution_count": 29
        }
      ]
    },
    {
      "cell_type": "markdown",
      "metadata": {
        "id": "uG6Az32QqfcT"
      },
      "source": [
        "## Исследуйте модели"
      ]
    },
    {
      "cell_type": "markdown",
      "source": [
        "Дерево решений"
      ],
      "metadata": {
        "id": "W42VLzJQqfcT"
      }
    },
    {
      "cell_type": "code",
      "source": [
        "from sklearn.tree import DecisionTreeClassifier\n",
        "best_model = None\n",
        "best_result = 0\n",
        "count_deep = 0\n",
        "for i in range(1, 6):\n",
        "  model = DecisionTreeClassifier(random_state = 12345, max_depth=i)\n",
        "  model.fit(features_train, target_train)\n",
        "  result = model.score(features_valid, target_valid)\n",
        "  if result > best_result:\n",
        "        best_model = model\n",
        "        best_result = result\n",
        "        count_deep = i\n",
        "print(f'Accuracy наилучшей модели дерева решений (с глубиной:{count_deep}) на валидационной выборке составило:{best_result}')"
      ],
      "metadata": {
        "colab": {
          "base_uri": "https://localhost:8080/"
        },
        "outputId": "d3a4da67-dc6b-4dd3-bd5f-acb1c1a1403a",
        "id": "zB4T4D1zqfcT"
      },
      "execution_count": null,
      "outputs": [
        {
          "output_type": "stream",
          "name": "stdout",
          "text": [
            "Accuracy наилучшей модели дерева решений (с глубиной:3) на валидационной выборке составило:0.7943615257048093\n"
          ]
        }
      ]
    },
    {
      "cell_type": "markdown",
      "source": [
        "Случайный лес"
      ],
      "metadata": {
        "id": "Kuk-0jRYqfcU"
      }
    },
    {
      "cell_type": "code",
      "execution_count": null,
      "metadata": {
        "colab": {
          "base_uri": "https://localhost:8080/"
        },
        "outputId": "07f7e95f-47b9-42a7-ec98-b2b3c730fa1b",
        "id": "_jCmUmSdqfcU"
      },
      "outputs": [
        {
          "output_type": "stream",
          "name": "stdout",
          "text": [
            "Accuracy наилучшей модели случайного леса (с количеством деревьев:20) на валидационной выборке составило:0.8275290215588723\n"
          ]
        }
      ],
      "source": [
        "from sklearn.ensemble import RandomForestClassifier\n",
        "best_model = None\n",
        "best_result = 0\n",
        "count_tree = 0\n",
        "for est in range(1, 70):\n",
        "    model = RandomForestClassifier(random_state=12345, n_estimators=est)\n",
        "    model.fit(features_train, target_train)\n",
        "    result = model.score(features_valid, target_valid)\n",
        "    if result > best_result:\n",
        "        best_model = model\n",
        "        best_result = result\n",
        "        count_tree = est\n",
        "print(f'Accuracy наилучшей модели случайного леса (с количеством деревьев:{count_tree}) на валидационной выборке составило:{best_result}')"
      ]
    },
    {
      "cell_type": "markdown",
      "source": [
        "Логистическая регрессия"
      ],
      "metadata": {
        "id": "O8xKpwPBqfcU"
      }
    },
    {
      "cell_type": "code",
      "source": [
        "from sklearn.linear_model import LogisticRegression\n",
        "model = LogisticRegression(random_state=12345, solver='lbfgs', max_iter=1000)\n",
        "model.fit(features_train, target_train)\n",
        "result = model.score(features_valid, target_valid)\n",
        "print(f'Accuracy наилучшей модели логистической регрессии на валидационной выборке составило:{result}')"
      ],
      "metadata": {
        "colab": {
          "base_uri": "https://localhost:8080/"
        },
        "outputId": "30fbe634-c8a4-4dfe-9778-86e9becb4123",
        "id": "_WvRuAcAqfcU"
      },
      "execution_count": null,
      "outputs": [
        {
          "output_type": "stream",
          "name": "stdout",
          "text": [
            "Accuracy наилучшей модели логистической регрессии на валидационной выборке составило:0.7412935323383084\n"
          ]
        }
      ]
    },
    {
      "cell_type": "markdown",
      "source": [
        "Наилучшей моделью оказался случайный лес, так как имеет наибольшую метрику accuracy и более устойчмва к переобучению, чем дерево решений"
      ],
      "metadata": {
        "id": "Pm3iGWklqfcU"
      }
    },
    {
      "cell_type": "markdown",
      "metadata": {
        "id": "aprGLQIcqfcU"
      },
      "source": [
        "## Проверьте модель на тестовой выборке"
      ]
    },
    {
      "cell_type": "code",
      "execution_count": null,
      "metadata": {
        "colab": {
          "base_uri": "https://localhost:8080/"
        },
        "outputId": "b67ce47a-c75a-4d9b-d2bf-d2e996c4494c",
        "id": "BnyZO7R_qfcU"
      },
      "outputs": [
        {
          "output_type": "execute_result",
          "data": {
            "text/plain": [
              "0.7835820895522388"
            ]
          },
          "metadata": {},
          "execution_count": 46
        }
      ],
      "source": [
        "model = RandomForestClassifier(random_state=12345, n_estimators=20)\n",
        "model.fit(features_train, target_train)\n",
        "result = model.score(features_test, target_test)\n",
        "result"
      ]
    },
    {
      "cell_type": "markdown",
      "source": [
        "Логистическая регрессия"
      ],
      "metadata": {
        "id": "J5r1XIezfBzm"
      }
    },
    {
      "cell_type": "code",
      "source": [
        "from sklearn.linear_model import LogisticRegression\n",
        "model = LogisticRegression(random_state=12345, solver='lbfgs', max_iter=1000)\n",
        "model.fit(features_train, target_train)\n",
        "result = model.score(features_valid, target_valid)\n",
        "print(f'Accuracy наилучшей модели логистической регрессии на валидационной выборке составило:{result}')"
      ],
      "metadata": {
        "colab": {
          "base_uri": "https://localhost:8080/"
        },
        "id": "PDVFsfM_fBcn",
        "outputId": "30fbe634-c8a4-4dfe-9778-86e9becb4123"
      },
      "execution_count": null,
      "outputs": [
        {
          "output_type": "stream",
          "name": "stdout",
          "text": [
            "Accuracy наилучшей модели логистической регрессии на валидационной выборке составило:0.7412935323383084\n"
          ]
        }
      ]
    },
    {
      "cell_type": "markdown",
      "source": [
        "Наилучшей моделью оказался случайный лес, так как имеет наибольшую метрику accuracy и более устойчмва к переобучению, чем дерево решений"
      ],
      "metadata": {
        "id": "sfLwNGB2neDd"
      }
    },
    {
      "cell_type": "markdown",
      "metadata": {
        "id": "KvcTSelnEgip"
      },
      "source": [
        "## Проверьте модель на тестовой выборке"
      ]
    },
    {
      "cell_type": "code",
      "execution_count": null,
      "metadata": {
        "id": "BfNAWaGKEgip",
        "colab": {
          "base_uri": "https://localhost:8080/"
        },
        "outputId": "48a707ac-a0a4-4540-eac9-97509c96cabd"
      },
      "outputs": [
        {
          "output_type": "stream",
          "name": "stdout",
          "text": [
            "Accuracy модели случайного леса (с количеством деревьев:20) на тестовой выборке составило:0.7835820895522388\n"
          ]
        }
      ],
      "source": [
        "model = RandomForestClassifier(random_state=12345, n_estimators=20)\n",
        "model.fit(features_train, target_train)\n",
        "result = model.score(features_test, target_test)\n",
        "print(f'Accuracy модели случайного леса (с количеством деревьев:{count_tree}) на тестовой выборке составило:{result}')"
      ]
    },
    {
      "cell_type": "markdown",
      "source": [
        "На тестовой выборке модель показала хорошие результаты accuracy = 0,78 это означает, что я подобрала хорошую модель(случайный лес) с правильными гиперпараметрами(20 деревьевЪ"
      ],
      "metadata": {
        "id": "53mzhdJZopfr"
      }
    },
    {
      "cell_type": "markdown",
      "metadata": {
        "id": "bK9lWgArEgip"
      },
      "source": [
        "## (бонус) Проверьте модели на адекватность"
      ]
    },
    {
      "cell_type": "markdown",
      "source": [
        "Проверим раюотоспособность модели на очевидных данных"
      ],
      "metadata": {
        "id": "vQ5VH5wCru-B"
      }
    },
    {
      "cell_type": "code",
      "execution_count": null,
      "metadata": {
        "id": "vTqQFIU_Egip",
        "colab": {
          "base_uri": "https://localhost:8080/"
        },
        "outputId": "fff0224e-0934-4245-9316-d9b2e51e807e"
      },
      "outputs": [
        {
          "output_type": "stream",
          "name": "stdout",
          "text": [
            "Предсказания на очевидных данных:[1 0]\n",
            "Ожидаемые ответы:[1, 0]\n"
          ]
        }
      ],
      "source": [
        "X_easy_test = pd.DataFrame({\n",
        "    'calls': [150, 30],\n",
        "    'minutes': [900, 200],\n",
        "    'messages': [20, 5],\n",
        "    'mb_used': [30000, 10000]\n",
        "})\n",
        "\n",
        "y_easy_test = [1, 0]\n",
        "\n",
        "easy_predictions = model.predict(X_easy_test)\n",
        "print(f'Предсказания на очевидных данных:{easy_predictions}')\n",
        "print(f'Ожидаемые ответы:{y_easy_test}')"
      ]
    },
    {
      "cell_type": "markdown",
      "source": [
        "**Вывод:**<br>\n",
        "Построенная модель случайного леса с 20 деревьями демонстрирует хорошее качество предсказаний (78% точности) и может быть рекомендована для использования в бизнес-задачах оператора для прогнозирования выбора тарифа новыми клиентами<br>\n",
        "Модель успешно прошла проверку на тестовых данных и показала логичные результаты на очевидных примерах, что подтверждает ее надежность."
      ],
      "metadata": {
        "id": "xEj0Idm_vcGl"
      }
    },
    {
      "cell_type": "markdown",
      "metadata": {
        "id": "N9cxz52AEgip"
      },
      "source": [
        "## Чек-лист готовности проекта"
      ]
    },
    {
      "cell_type": "markdown",
      "metadata": {
        "id": "PfeuSmtmEgiq"
      },
      "source": [
        "Поставьте 'x' в выполненных пунктах. Далее нажмите Shift+Enter."
      ]
    },
    {
      "cell_type": "markdown",
      "metadata": {
        "id": "4Aob4fTpEgiq"
      },
      "source": [
        "- [x] Jupyter Notebook открыт\n",
        "- [x] Весь код исполняется без ошибок\n",
        "- [x] Ячейки с кодом расположены в порядке исполнения\n",
        "- [x] Выполнено задание 1: данные загружены и изучены\n",
        "- [x] Выполнено задание 2: данные разбиты на три выборки\n",
        "- [x] Выполнено задание 3: проведено исследование моделей\n",
        "    - [x] Рассмотрено больше одной модели\n",
        "    - [x] Рассмотрено хотя бы 3 значения гипепараметров для какой-нибудь модели\n",
        "    - [x] Написаны выводы по результатам исследования\n",
        "- [x] Выполнено задание 3: Проведено тестирование\n",
        "- [x] Удалось достичь accuracy не меньше 0.75\n"
      ]
    },
    {
      "cell_type": "code",
      "execution_count": null,
      "metadata": {
        "id": "cp5IQQbSEgiq"
      },
      "outputs": [],
      "source": []
    }
  ],
  "metadata": {
    "kernelspec": {
      "display_name": "Python 3 (ipykernel)",
      "language": "python",
      "name": "python3"
    },
    "language_info": {
      "codemirror_mode": {
        "name": "ipython",
        "version": 3
      },
      "file_extension": ".py",
      "mimetype": "text/x-python",
      "name": "python",
      "nbconvert_exporter": "python",
      "pygments_lexer": "ipython3",
      "version": "3.9.5"
    },
    "toc": {
      "base_numbering": 1,
      "nav_menu": {},
      "number_sections": true,
      "sideBar": true,
      "skip_h1_title": true,
      "title_cell": "Table of Contents",
      "title_sidebar": "Contents",
      "toc_cell": false,
      "toc_position": {},
      "toc_section_display": true,
      "toc_window_display": false
    },
    "colab": {
      "provenance": []
    }
  },
  "nbformat": 4,
  "nbformat_minor": 0
}